{
 "cells": [
  {
   "cell_type": "markdown",
   "id": "c45b9e50",
   "metadata": {},
   "source": [
    "### Question 1: Part A\n",
    "Write a function in python, which takes in string from user input and prints if the string is a palindrome or not.\n",
    "\n",
    "Example 1:\n",
    "- User input: random\n",
    "- Output: not a palindrome\n",
    "\n",
    "Example 2:\n",
    "- User input: madam\n",
    "- Output: palindrome\n",
    "\n",
    "Note: A palindrome is a word, phrase, or sequence that reads the same backward as forward"
   ]
  },
  {
   "cell_type": "code",
   "execution_count": 3,
   "id": "6ba96605",
   "metadata": {},
   "outputs": [
    {
     "name": "stdout",
     "output_type": "stream",
     "text": [
      "Enter a word to check if it is a palindrome or not: madam\n"
     ]
    },
    {
     "data": {
      "text/plain": [
       "'Palindrome'"
      ]
     },
     "execution_count": 3,
     "metadata": {},
     "output_type": "execute_result"
    }
   ],
   "source": [
    "def palindrome(word):\n",
    "    word = word.lower()\n",
    "    first = 0\n",
    "    last = len(word)-1\n",
    "    \n",
    "    while first < last:\n",
    "        if word[first] != word[last]:\n",
    "            return \"Not a Palindrome\"\n",
    "        first += 1\n",
    "        last -= 1\n",
    "            \n",
    "    return \"Palindrome\"\n",
    "    \n",
    "word = input('Enter a word to check if it is a palindrome or not: ')\n",
    "palindrome(word)"
   ]
  },
  {
   "cell_type": "markdown",
   "id": "88bf50fb",
   "metadata": {},
   "source": [
    "### Question 1: Part B\n",
    "\n",
    "Write a function in python, which takes in a number from user input and prints if the number is a prime number or not"
   ]
  },
  {
   "cell_type": "code",
   "execution_count": 79,
   "id": "9b543f43",
   "metadata": {},
   "outputs": [
    {
     "name": "stdout",
     "output_type": "stream",
     "text": [
      "Enter a number to check if it is a prime number or not: 8\n"
     ]
    },
    {
     "data": {
      "text/plain": [
       "'Not Prime'"
      ]
     },
     "execution_count": 79,
     "metadata": {},
     "output_type": "execute_result"
    }
   ],
   "source": [
    "def prime(num):\n",
    "    if num%2==0 or num<2:\n",
    "        return 'Not Prime'\n",
    "    if num==2 or num==3:\n",
    "        return 'Prime'\n",
    "    for i in range(2,num):\n",
    "        if num%i == 0:\n",
    "            return 'Not prime'\n",
    "    return 'Prime'\n",
    "        \n",
    "num = int(input('Enter a number to check if it is a prime number or not: '))\n",
    "prime(num)"
   ]
  },
  {
   "cell_type": "raw",
   "id": "cf7f6e78",
   "metadata": {},
   "source": [
    "def prime(num):\n",
    "    for i in range(2,num):\n",
    "        print(i)\n",
    "        if num%i==0:\n",
    "            print('Not Prime')\n",
    "        \n",
    "prime(13)"
   ]
  },
  {
   "cell_type": "markdown",
   "id": "2a5c74d9",
   "metadata": {},
   "source": [
    "### Question 2: Numpy\n",
    "PART A: Create a 3X3 matrix of random numbers using NumPy"
   ]
  },
  {
   "cell_type": "code",
   "execution_count": 37,
   "id": "8a298ea1",
   "metadata": {},
   "outputs": [],
   "source": [
    "import numpy as np"
   ]
  },
  {
   "cell_type": "code",
   "execution_count": 40,
   "id": "ad45ccba",
   "metadata": {},
   "outputs": [
    {
     "data": {
      "text/plain": [
       "array([[0.01037415, 0.50187459, 0.49577329],\n",
       "       [0.13382953, 0.14211109, 0.21855868],\n",
       "       [0.41850818, 0.24810117, 0.08405965]])"
      ]
     },
     "execution_count": 40,
     "metadata": {},
     "output_type": "execute_result"
    }
   ],
   "source": [
    "np.random.seed(9)\n",
    "arr = np.random.rand(3,3)\n",
    "arr"
   ]
  },
  {
   "cell_type": "markdown",
   "id": "4ef69568",
   "metadata": {},
   "source": [
    "PART B: Print the max value from the above matrix "
   ]
  },
  {
   "cell_type": "code",
   "execution_count": 39,
   "id": "a9103a8c",
   "metadata": {},
   "outputs": [
    {
     "data": {
      "text/plain": [
       "0.5018745921487388"
      ]
     },
     "execution_count": 39,
     "metadata": {},
     "output_type": "execute_result"
    }
   ],
   "source": [
    "arr_max = arr.max()\n",
    "arr_max"
   ]
  },
  {
   "cell_type": "markdown",
   "id": "d4be213c",
   "metadata": {},
   "source": [
    "PART C. Normalize the matrix and print it out. Use the following formula for normalization:\n",
    "\n",
    "x = (x - xmin)/(xmax - xmin)"
   ]
  },
  {
   "cell_type": "code",
   "execution_count": 94,
   "id": "311082bd",
   "metadata": {},
   "outputs": [
    {
     "data": {
      "text/plain": [
       "array([[0.        , 1.        , 0.98758638],\n",
       "       [0.2511806 , 0.26803014, 0.42356935],\n",
       "       [0.83038385, 0.4836761 , 0.14991949]])"
      ]
     },
     "execution_count": 94,
     "metadata": {},
     "output_type": "execute_result"
    }
   ],
   "source": [
    "arr_norm = []\n",
    "for i in arr:\n",
    "    norm = (i-arr.min())/(arr.max()-arr.min())\n",
    "    arr_norm.append(norm)\n",
    "np.asarray(arr_norm)"
   ]
  },
  {
   "cell_type": "markdown",
   "id": "0bed3029",
   "metadata": {},
   "source": [
    "### Question 3: Pandas "
   ]
  },
  {
   "cell_type": "markdown",
   "id": "82e2f19a",
   "metadata": {},
   "source": [
    "PART A: Read file1.txt and file_2.txt (available on python folder on canvas too) into two pandas data frames"
   ]
  },
  {
   "cell_type": "code",
   "execution_count": null,
   "id": "1e246ef8",
   "metadata": {},
   "outputs": [],
   "source": [
    "import pandas as pd"
   ]
  },
  {
   "cell_type": "code",
   "execution_count": 8,
   "id": "5a5cdec2",
   "metadata": {},
   "outputs": [
    {
     "data": {
      "text/html": [
       "<div>\n",
       "<style scoped>\n",
       "    .dataframe tbody tr th:only-of-type {\n",
       "        vertical-align: middle;\n",
       "    }\n",
       "\n",
       "    .dataframe tbody tr th {\n",
       "        vertical-align: top;\n",
       "    }\n",
       "\n",
       "    .dataframe thead th {\n",
       "        text-align: right;\n",
       "    }\n",
       "</style>\n",
       "<table border=\"1\" class=\"dataframe\">\n",
       "  <thead>\n",
       "    <tr style=\"text-align: right;\">\n",
       "      <th></th>\n",
       "      <th>Gene_name</th>\n",
       "      <th>Sample1</th>\n",
       "    </tr>\n",
       "  </thead>\n",
       "  <tbody>\n",
       "    <tr>\n",
       "      <th>0</th>\n",
       "      <td>ENSG00000223972</td>\n",
       "      <td>0.05445</td>\n",
       "    </tr>\n",
       "    <tr>\n",
       "      <th>1</th>\n",
       "      <td>ENSG00000227232</td>\n",
       "      <td>20.81000</td>\n",
       "    </tr>\n",
       "    <tr>\n",
       "      <th>2</th>\n",
       "      <td>ENSG00000243485</td>\n",
       "      <td>0.12090</td>\n",
       "    </tr>\n",
       "    <tr>\n",
       "      <th>3</th>\n",
       "      <td>ENSG00000237613</td>\n",
       "      <td>0.03810</td>\n",
       "    </tr>\n",
       "    <tr>\n",
       "      <th>4</th>\n",
       "      <td>ENSG00000268020</td>\n",
       "      <td>0.04904</td>\n",
       "    </tr>\n",
       "    <tr>\n",
       "      <th>...</th>\n",
       "      <td>...</td>\n",
       "      <td>...</td>\n",
       "    </tr>\n",
       "    <tr>\n",
       "      <th>115</th>\n",
       "      <td>ENSG00000205090</td>\n",
       "      <td>4.87900</td>\n",
       "    </tr>\n",
       "    <tr>\n",
       "      <th>116</th>\n",
       "      <td>ENSG00000160075</td>\n",
       "      <td>100.60000</td>\n",
       "    </tr>\n",
       "    <tr>\n",
       "      <th>117</th>\n",
       "      <td>ENSG00000215014</td>\n",
       "      <td>0.77480</td>\n",
       "    </tr>\n",
       "    <tr>\n",
       "      <th>118</th>\n",
       "      <td>ENSG00000236684</td>\n",
       "      <td>0.00000</td>\n",
       "    </tr>\n",
       "    <tr>\n",
       "      <th>119</th>\n",
       "      <td>ENSG00000228594</td>\n",
       "      <td>0.71280</td>\n",
       "    </tr>\n",
       "  </tbody>\n",
       "</table>\n",
       "<p>120 rows × 2 columns</p>\n",
       "</div>"
      ],
      "text/plain": [
       "           Gene_name    Sample1\n",
       "0    ENSG00000223972    0.05445\n",
       "1    ENSG00000227232   20.81000\n",
       "2    ENSG00000243485    0.12090\n",
       "3    ENSG00000237613    0.03810\n",
       "4    ENSG00000268020    0.04904\n",
       "..               ...        ...\n",
       "115  ENSG00000205090    4.87900\n",
       "116  ENSG00000160075  100.60000\n",
       "117  ENSG00000215014    0.77480\n",
       "118  ENSG00000236684    0.00000\n",
       "119  ENSG00000228594    0.71280\n",
       "\n",
       "[120 rows x 2 columns]"
      ]
     },
     "execution_count": 8,
     "metadata": {},
     "output_type": "execute_result"
    }
   ],
   "source": [
    "#.read_table() function is used to extract the data from a .txt file\n",
    "df1 = pd.read_table('file1.txt')\n",
    "df1"
   ]
  },
  {
   "cell_type": "code",
   "execution_count": 9,
   "id": "12d0206a",
   "metadata": {},
   "outputs": [
    {
     "data": {
      "text/html": [
       "<div>\n",
       "<style scoped>\n",
       "    .dataframe tbody tr th:only-of-type {\n",
       "        vertical-align: middle;\n",
       "    }\n",
       "\n",
       "    .dataframe tbody tr th {\n",
       "        vertical-align: top;\n",
       "    }\n",
       "\n",
       "    .dataframe thead th {\n",
       "        text-align: right;\n",
       "    }\n",
       "</style>\n",
       "<table border=\"1\" class=\"dataframe\">\n",
       "  <thead>\n",
       "    <tr style=\"text-align: right;\">\n",
       "      <th></th>\n",
       "      <th>Gene_name</th>\n",
       "      <th>Sample2</th>\n",
       "    </tr>\n",
       "  </thead>\n",
       "  <tbody>\n",
       "    <tr>\n",
       "      <th>0</th>\n",
       "      <td>ENSG00000223972</td>\n",
       "      <td>0.02398</td>\n",
       "    </tr>\n",
       "    <tr>\n",
       "      <th>1</th>\n",
       "      <td>ENSG00000227232</td>\n",
       "      <td>10.68000</td>\n",
       "    </tr>\n",
       "    <tr>\n",
       "      <th>2</th>\n",
       "      <td>ENSG00000243485</td>\n",
       "      <td>0.10660</td>\n",
       "    </tr>\n",
       "    <tr>\n",
       "      <th>3</th>\n",
       "      <td>ENSG00000237613</td>\n",
       "      <td>0.06713</td>\n",
       "    </tr>\n",
       "    <tr>\n",
       "      <th>4</th>\n",
       "      <td>ENSG00000268020</td>\n",
       "      <td>0.12960</td>\n",
       "    </tr>\n",
       "    <tr>\n",
       "      <th>...</th>\n",
       "      <td>...</td>\n",
       "      <td>...</td>\n",
       "    </tr>\n",
       "    <tr>\n",
       "      <th>115</th>\n",
       "      <td>ENSG00000205090</td>\n",
       "      <td>5.44100</td>\n",
       "    </tr>\n",
       "    <tr>\n",
       "      <th>116</th>\n",
       "      <td>ENSG00000160075</td>\n",
       "      <td>119.70000</td>\n",
       "    </tr>\n",
       "    <tr>\n",
       "      <th>117</th>\n",
       "      <td>ENSG00000215014</td>\n",
       "      <td>1.40500</td>\n",
       "    </tr>\n",
       "    <tr>\n",
       "      <th>118</th>\n",
       "      <td>ENSG00000236684</td>\n",
       "      <td>0.00000</td>\n",
       "    </tr>\n",
       "    <tr>\n",
       "      <th>119</th>\n",
       "      <td>ENSG00000228594</td>\n",
       "      <td>2.49200</td>\n",
       "    </tr>\n",
       "  </tbody>\n",
       "</table>\n",
       "<p>120 rows × 2 columns</p>\n",
       "</div>"
      ],
      "text/plain": [
       "           Gene_name    Sample2\n",
       "0    ENSG00000223972    0.02398\n",
       "1    ENSG00000227232   10.68000\n",
       "2    ENSG00000243485    0.10660\n",
       "3    ENSG00000237613    0.06713\n",
       "4    ENSG00000268020    0.12960\n",
       "..               ...        ...\n",
       "115  ENSG00000205090    5.44100\n",
       "116  ENSG00000160075  119.70000\n",
       "117  ENSG00000215014    1.40500\n",
       "118  ENSG00000236684    0.00000\n",
       "119  ENSG00000228594    2.49200\n",
       "\n",
       "[120 rows x 2 columns]"
      ]
     },
     "execution_count": 9,
     "metadata": {},
     "output_type": "execute_result"
    }
   ],
   "source": [
    "df2 = pd.read_table('file2.txt')\n",
    "df2"
   ]
  },
  {
   "cell_type": "markdown",
   "id": "5af9382c",
   "metadata": {},
   "source": [
    "PART B: Merge both data frames by gene name"
   ]
  },
  {
   "cell_type": "code",
   "execution_count": 11,
   "id": "f5dd729d",
   "metadata": {},
   "outputs": [
    {
     "data": {
      "text/html": [
       "<div>\n",
       "<style scoped>\n",
       "    .dataframe tbody tr th:only-of-type {\n",
       "        vertical-align: middle;\n",
       "    }\n",
       "\n",
       "    .dataframe tbody tr th {\n",
       "        vertical-align: top;\n",
       "    }\n",
       "\n",
       "    .dataframe thead th {\n",
       "        text-align: right;\n",
       "    }\n",
       "</style>\n",
       "<table border=\"1\" class=\"dataframe\">\n",
       "  <thead>\n",
       "    <tr style=\"text-align: right;\">\n",
       "      <th></th>\n",
       "      <th>Gene_name</th>\n",
       "      <th>Sample1</th>\n",
       "      <th>Sample2</th>\n",
       "    </tr>\n",
       "  </thead>\n",
       "  <tbody>\n",
       "    <tr>\n",
       "      <th>0</th>\n",
       "      <td>ENSG00000223972</td>\n",
       "      <td>0.05445</td>\n",
       "      <td>0.02398</td>\n",
       "    </tr>\n",
       "    <tr>\n",
       "      <th>1</th>\n",
       "      <td>ENSG00000227232</td>\n",
       "      <td>20.81000</td>\n",
       "      <td>10.68000</td>\n",
       "    </tr>\n",
       "    <tr>\n",
       "      <th>2</th>\n",
       "      <td>ENSG00000243485</td>\n",
       "      <td>0.12090</td>\n",
       "      <td>0.10660</td>\n",
       "    </tr>\n",
       "    <tr>\n",
       "      <th>3</th>\n",
       "      <td>ENSG00000237613</td>\n",
       "      <td>0.03810</td>\n",
       "      <td>0.06713</td>\n",
       "    </tr>\n",
       "    <tr>\n",
       "      <th>4</th>\n",
       "      <td>ENSG00000268020</td>\n",
       "      <td>0.04904</td>\n",
       "      <td>0.12960</td>\n",
       "    </tr>\n",
       "    <tr>\n",
       "      <th>...</th>\n",
       "      <td>...</td>\n",
       "      <td>...</td>\n",
       "      <td>...</td>\n",
       "    </tr>\n",
       "    <tr>\n",
       "      <th>115</th>\n",
       "      <td>ENSG00000205090</td>\n",
       "      <td>4.87900</td>\n",
       "      <td>5.44100</td>\n",
       "    </tr>\n",
       "    <tr>\n",
       "      <th>116</th>\n",
       "      <td>ENSG00000160075</td>\n",
       "      <td>100.60000</td>\n",
       "      <td>119.70000</td>\n",
       "    </tr>\n",
       "    <tr>\n",
       "      <th>117</th>\n",
       "      <td>ENSG00000215014</td>\n",
       "      <td>0.77480</td>\n",
       "      <td>1.40500</td>\n",
       "    </tr>\n",
       "    <tr>\n",
       "      <th>118</th>\n",
       "      <td>ENSG00000236684</td>\n",
       "      <td>0.00000</td>\n",
       "      <td>0.00000</td>\n",
       "    </tr>\n",
       "    <tr>\n",
       "      <th>119</th>\n",
       "      <td>ENSG00000228594</td>\n",
       "      <td>0.71280</td>\n",
       "      <td>2.49200</td>\n",
       "    </tr>\n",
       "  </tbody>\n",
       "</table>\n",
       "<p>120 rows × 3 columns</p>\n",
       "</div>"
      ],
      "text/plain": [
       "           Gene_name    Sample1    Sample2\n",
       "0    ENSG00000223972    0.05445    0.02398\n",
       "1    ENSG00000227232   20.81000   10.68000\n",
       "2    ENSG00000243485    0.12090    0.10660\n",
       "3    ENSG00000237613    0.03810    0.06713\n",
       "4    ENSG00000268020    0.04904    0.12960\n",
       "..               ...        ...        ...\n",
       "115  ENSG00000205090    4.87900    5.44100\n",
       "116  ENSG00000160075  100.60000  119.70000\n",
       "117  ENSG00000215014    0.77480    1.40500\n",
       "118  ENSG00000236684    0.00000    0.00000\n",
       "119  ENSG00000228594    0.71280    2.49200\n",
       "\n",
       "[120 rows x 3 columns]"
      ]
     },
     "execution_count": 11,
     "metadata": {},
     "output_type": "execute_result"
    }
   ],
   "source": [
    "df3 = pd.merge(df1, df2, on='Gene_name')\n",
    "df3"
   ]
  },
  {
   "cell_type": "markdown",
   "id": "04743de8",
   "metadata": {},
   "source": [
    "PART C: Calculate the mean for each gene (row) and each sample (column)"
   ]
  },
  {
   "cell_type": "code",
   "execution_count": 34,
   "id": "08635e5f",
   "metadata": {},
   "outputs": [
    {
     "data": {
      "text/plain": [
       "Sample1    57.441578\n",
       "Sample2    57.076474\n",
       "dtype: float64"
      ]
     },
     "execution_count": 34,
     "metadata": {},
     "output_type": "execute_result"
    }
   ],
   "source": [
    "#Mean for each sample\n",
    "df3.mean(axis=0, numeric_only=True)"
   ]
  },
  {
   "cell_type": "code",
   "execution_count": 33,
   "id": "2837e27b",
   "metadata": {},
   "outputs": [
    {
     "data": {
      "text/plain": [
       "0        0.039215\n",
       "1       15.745000\n",
       "2        0.113750\n",
       "3        0.052615\n",
       "4        0.089320\n",
       "          ...    \n",
       "115      5.160000\n",
       "116    110.150000\n",
       "117      1.089900\n",
       "118      0.000000\n",
       "119      1.602400\n",
       "Length: 120, dtype: float64"
      ]
     },
     "execution_count": 33,
     "metadata": {},
     "output_type": "execute_result"
    }
   ],
   "source": [
    "#MEan for each gene\n",
    "df3.mean(axis=1, numeric_only=True)"
   ]
  },
  {
   "cell_type": "markdown",
   "id": "1ddc216f",
   "metadata": {},
   "source": [
    "PART D: Generate a figure with two box plots (showing distribution of each sample)"
   ]
  },
  {
   "cell_type": "code",
   "execution_count": 15,
   "id": "eae2dafb",
   "metadata": {},
   "outputs": [],
   "source": [
    "import matplotlib.pyplot as plt"
   ]
  },
  {
   "cell_type": "code",
   "execution_count": 81,
   "id": "1b55560f",
   "metadata": {},
   "outputs": [
    {
     "data": {
      "image/png": "[encoded data removed]",
      "text/plain": [
       "<Figure size 1080x720 with 1 Axes>"
      ]
     },
     "metadata": {
      "needs_background": "light"
     },
     "output_type": "display_data"
    }
   ],
   "source": [
    "df3.plot.box(figsize=(15,10))\n",
    "plt.show()"
   ]
  }
 ],
 "metadata": {
  "kernelspec": {
   "display_name": "Python 3 (ipykernel)",
   "language": "python",
   "name": "python3"
  },
  "language_info": {
   "codemirror_mode": {
    "name": "ipython",
    "version": 3
   },
   "file_extension": ".py",
   "mimetype": "text/x-python",
   "name": "python",
   "nbconvert_exporter": "python",
   "pygments_lexer": "ipython3",
   "version": "3.8.8"
  }
 },
 "nbformat": 4,
 "nbformat_minor": 5
}
