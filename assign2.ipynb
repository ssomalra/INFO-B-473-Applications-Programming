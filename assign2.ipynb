{
 "cells": [
  {
   "cell_type": "markdown",
   "id": "e6b4d9bf",
   "metadata": {},
   "source": [
    "### Question 1\n",
    "\n",
    "- Using python variables calculate the perimeter and area of rectangle with length 10cm and width 7cm.\n",
    "- Using python variables, compute the length of the hypotenuse of a right-angled triangle of height 7cm and base 10cm. (hint: use Pythagoras theorem. Duh!)  "
   ]
  },
  {
   "cell_type": "code",
   "execution_count": 45,
   "id": "c52114b6",
   "metadata": {},
   "outputs": [
    {
     "name": "stdout",
     "output_type": "stream",
     "text": [
      "Area: 70\n",
      "Perimeter: 34\n"
     ]
    }
   ],
   "source": [
    "def Rectangle(length, width):\n",
    "    area = length*width\n",
    "    print('Area:', area)\n",
    "    perimeter = 2*(length+width)\n",
    "    print('Perimeter:', perimeter)\n",
    "Rectangle(10,7)"
   ]
  },
  {
   "cell_type": "code",
   "execution_count": 42,
   "id": "3d72c711",
   "metadata": {},
   "outputs": [
    {
     "data": {
      "text/plain": [
       "12.206555615733702"
      ]
     },
     "execution_count": 42,
     "metadata": {},
     "output_type": "execute_result"
    }
   ],
   "source": [
    "import math\n",
    "def Pythagorean(height, base):\n",
    "    hypotenuse = math.sqrt(height**2 + base**2)\n",
    "    return hypotenuse\n",
    "Pythagorean(7, 10)"
   ]
  },
  {
   "cell_type": "markdown",
   "id": "f48659dc",
   "metadata": {},
   "source": [
    "### Question 2\n",
    "\n",
    "list1 = [1,3,5,6,7,8,9] \n",
    "\n",
    "list2 = [‘the’, ‘if’, ‘and’, ‘this’, ‘for’]\n",
    "\n",
    "1. From list1, extract third to sixth elements into a new list and print the new list. (Note: Python index starts at 0)\n",
    "2. Remove the last element from list2.\n",
    "3. Add ‘B573’ as the fourth element of list1. "
   ]
  },
  {
   "cell_type": "code",
   "execution_count": 23,
   "id": "b1cb6249",
   "metadata": {},
   "outputs": [
    {
     "name": "stdout",
     "output_type": "stream",
     "text": [
      "[5, 6, 7, 8]\n"
     ]
    }
   ],
   "source": [
    "list1 = [1,3,5,6,7,8,9]\n",
    "list2 = ['the', 'if', 'and', 'this', 'for']\n",
    "\n",
    "new_list = list1[2:6]\n",
    "print(new_list)"
   ]
  },
  {
   "cell_type": "code",
   "execution_count": 24,
   "id": "ff1f5f2a",
   "metadata": {},
   "outputs": [
    {
     "name": "stdout",
     "output_type": "stream",
     "text": [
      "['the', 'if', 'and', 'this']\n"
     ]
    }
   ],
   "source": [
    "list2.pop(len(list2)-1)\n",
    "print(list2)"
   ]
  },
  {
   "cell_type": "code",
   "execution_count": 25,
   "id": "10db3467",
   "metadata": {},
   "outputs": [
    {
     "name": "stdout",
     "output_type": "stream",
     "text": [
      "[1, 3, 5, 'B573', 6, 7, 8, 9]\n"
     ]
    }
   ],
   "source": [
    "list1.insert(3, 'B573')\n",
    "print(list1)"
   ]
  },
  {
   "cell_type": "markdown",
   "id": "dc670b13",
   "metadata": {},
   "source": [
    "### Question 3 \n",
    "\n",
    "Create an empty dictionary and assign Gene_id as keys and respective ontology IDs as values from the following data                          \n",
    "\n",
    " \n",
    "- Print all Gene_IDs from the dictionary.\n",
    "- Print Ontology ID annotated to ENSG00000003987 from the dictionary.\n",
    "- Check if ‘ENSG00000256206’ exists in the dictionary and if not assign ‘GO:0005737’ as its value.                        "
   ]
  },
  {
   "cell_type": "code",
   "execution_count": 3,
   "id": "19efcaa0",
   "metadata": {},
   "outputs": [
    {
     "name": "stdout",
     "output_type": "stream",
     "text": [
      "{'ENSG00000185432': 'GO:0016020', 'ENSG00000003987': 'GO:0005737', 'ENSG00000124935': 'GO:0005615', 'ENSG00000186187': 'GO:0070936', 'ENSG00000161217': 'GO:0006657'}\n"
     ]
    }
   ],
   "source": [
    "dict = {}\n",
    "dict['ENSG00000185432'] = 'GO:0016020'\n",
    "dict['ENSG00000003987'] = 'GO:0005737'\n",
    "dict['ENSG00000124935'] = 'GO:0005615'\n",
    "dict['ENSG00000186187'] = 'GO:0070936'\n",
    "dict['ENSG00000161217'] = 'GO:0006657'\n",
    "print(dict)"
   ]
  },
  {
   "cell_type": "code",
   "execution_count": 4,
   "id": "f69a1575",
   "metadata": {},
   "outputs": [
    {
     "name": "stdout",
     "output_type": "stream",
     "text": [
      "dict_keys(['ENSG00000185432', 'ENSG00000003987', 'ENSG00000124935', 'ENSG00000186187', 'ENSG00000161217'])\n"
     ]
    }
   ],
   "source": [
    "print(dict.keys())"
   ]
  },
  {
   "cell_type": "code",
   "execution_count": 35,
   "id": "0c86993d",
   "metadata": {},
   "outputs": [
    {
     "name": "stdout",
     "output_type": "stream",
     "text": [
      "GO:0005737\n"
     ]
    }
   ],
   "source": [
    "print(dict['ENSG00000003987'])"
   ]
  },
  {
   "cell_type": "code",
   "execution_count": 38,
   "id": "db1dfd0a",
   "metadata": {},
   "outputs": [
    {
     "name": "stdout",
     "output_type": "stream",
     "text": [
      "{'ENSG00000185432': 'GO:0016020', 'ENSG00000003987': 'GO:0005737', 'ENSG00000124935': 'GO:0005615', 'ENSG00000186187': 'GO:0070936', 'ENSG00000161217': 'GO:0006657', 'ENSG00000256206': 'GO:0005737'}\n"
     ]
    }
   ],
   "source": [
    "if 'ENSG00000256206' not in dict:\n",
    "    dict['ENSG00000256206'] = 'GO:0005737'\n",
    "else:\n",
    "    print('Already in dictionary')\n",
    "print(dict)\n",
    "    "
   ]
  },
  {
   "cell_type": "markdown",
   "id": "97654282",
   "metadata": {},
   "source": [
    "### Question 4\n",
    "\n",
    "Write a python program which takes in a range of numbers (2 numbers, both included) from user input and prints all the numbers divisible by 7 and multiple of 5 in that range.      \n",
    "\n",
    "Example:\n",
    "\n",
    "User input: 2000, 2500\n",
    "\n",
    "Output: 2030, 2065, 2100, 2135, 2170, 2205, 2240, 2275, 2310, 2345, 2380, 2415, 2450, 2485 "
   ]
  },
  {
   "cell_type": "code",
   "execution_count": 2,
   "id": "73d6fead",
   "metadata": {},
   "outputs": [
    {
     "name": "stdout",
     "output_type": "stream",
     "text": [
      "Enter the first number in the range: 2000\n",
      "Enter the last number in the range: 2500\n",
      "2030, 2065, 2100, 2135, 2170, 2205, 2240, 2275, 2310, 2345, 2380, 2415, 2450, 2485\n"
     ]
    }
   ],
   "source": [
    "num1 = int(input(\"Enter the first number in the range: \"))\n",
    "num2 = int(input(\"Enter the last number in the range: \"))\n",
    "result = []\n",
    "\n",
    "for i in range(num1, num2+1):\n",
    "    if i%7==0 and i%5==0:\n",
    "        result.append(i)\n",
    "\n",
    "print(', '.join(map(str, result)))"
   ]
  }
 ],
 "metadata": {
  "kernelspec": {
   "display_name": "Python 3 (ipykernel)",
   "language": "python",
   "name": "python3"
  },
  "language_info": {
   "codemirror_mode": {
    "name": "ipython",
    "version": 3
   },
   "file_extension": ".py",
   "mimetype": "text/x-python",
   "name": "python",
   "nbconvert_exporter": "python",
   "pygments_lexer": "ipython3",
   "version": "3.8.8"
  }
 },
 "nbformat": 4,
 "nbformat_minor": 5
}
